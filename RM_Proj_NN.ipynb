{
  "nbformat": 4,
  "nbformat_minor": 0,
  "metadata": {
    "colab": {
      "name": "RM_Proj_NN",
      "provenance": [],
      "collapsed_sections": []
    },
    "kernelspec": {
      "name": "python3",
      "display_name": "Python 3"
    },
    "language_info": {
      "name": "python"
    },
    "accelerator": "GPU"
  },
  "cells": [
    {
      "cell_type": "markdown",
      "metadata": {
        "id": "mCng6GRaEigk"
      },
      "source": [
        "Importing libraries"
      ]
    },
    {
      "cell_type": "code",
      "metadata": {
        "id": "2MzZXCpU7J2p"
      },
      "source": [
        "import keras\n",
        "import time\n",
        "import numpy as np\n",
        "import tensorflow as tf\n",
        "from keras.optimizers import SGD\n",
        "from keras.models import load_model\n",
        "from keras.callbacks import ModelCheckpoint\n",
        "from sklearn.model_selection import train_test_split\n",
        "\n",
        "from keras.applications.vgg16 import VGG16\n",
        "from keras.applications.resnet import ResNet50\n",
        "from keras.applications.densenet import DenseNet121\n",
        "\n",
        "import matplotlib.pyplot as plt\n",
        "from sklearn.metrics import classification_report, confusion_matrix"
      ],
      "execution_count": 1,
      "outputs": []
    },
    {
      "cell_type": "markdown",
      "metadata": {
        "id": "eqOcJxGyEV-A"
      },
      "source": [
        "Loading image labels"
      ]
    },
    {
      "cell_type": "code",
      "metadata": {
        "colab": {
          "base_uri": "https://localhost:8080/"
        },
        "id": "eisArjkvy7Lk",
        "outputId": "fdd83a54-ca13-4589-cebc-bf089ae70135"
      },
      "source": [
        "# loading image label arrays from drive\n",
        "train_labels = np.load('/content/drive/MyDrive/FER2013/train_labels.npy')\n",
        "test_labels = np.load('/content/drive/MyDrive/FER2013/test_labels.npy')\n",
        "\n",
        "print(\"Training Labels : \",train_labels.shape)\n",
        "print(\"Testing  Labels : \",test_labels.shape)"
      ],
      "execution_count": 2,
      "outputs": [
        {
          "output_type": "stream",
          "text": [
            "Training Labels :  (28709, 7)\n",
            "Testing  Labels :  (7080, 7)\n"
          ],
          "name": "stdout"
        }
      ]
    },
    {
      "cell_type": "markdown",
      "metadata": {
        "id": "GqndUs0fEZYQ"
      },
      "source": [
        "Laoding raw image data"
      ]
    },
    {
      "cell_type": "code",
      "metadata": {
        "colab": {
          "base_uri": "https://localhost:8080/"
        },
        "id": "qxLPsl3nzbne",
        "outputId": "6c4d8c9e-eb85-4e5d-9719-65aa9f0db050"
      },
      "source": [
        "# loading raw image arrays from drive\n",
        "train_data = np.load('/content/drive/MyDrive/FER2013/train_data.npy')\n",
        "test_data = np.load('/content/drive/MyDrive/FER2013/test_data.npy')\n",
        "\n",
        "print(\"Training Data   : \",train_data.shape)\n",
        "print(\"Testing  Data   : \",test_data.shape)"
      ],
      "execution_count": 3,
      "outputs": [
        {
          "output_type": "stream",
          "text": [
            "Training Data   :  (28709, 224, 224, 3)\n",
            "Testing  Data   :  (7080, 224, 224, 3)\n"
          ],
          "name": "stdout"
        }
      ]
    },
    {
      "cell_type": "markdown",
      "metadata": {
        "id": "l-EphOMrCawB"
      },
      "source": [
        "ResNet50 with Rawdata"
      ]
    },
    {
      "cell_type": "code",
      "metadata": {
        "colab": {
          "base_uri": "https://localhost:8080/"
        },
        "id": "aU0zWCpTjiyd",
        "outputId": "1190da50-85ca-45a3-f065-12fd723eace5"
      },
      "source": [
        "# Loading pretrain resnet model\n",
        "resnet_model = ResNet50(weights='imagenet',include_top=False)\n",
        "\n",
        "# Pooling/ flat\n",
        "pooling = keras.layers.GlobalAveragePooling2D()(resnet_model.output)\n",
        "\n",
        "# Adding fully connected layer 1\n",
        "pred = keras.layers.Dense(7, activation='softmax', name=\"pred\")(pooling)\n",
        "\n",
        "# Final model\n",
        "model = keras.models.Model(inputs = resnet_model.input, outputs=pred)\n",
        "\n",
        "# Options setting\n",
        "options = keras.optimizers.SGD(learning_rate = 0.001,decay=1e-6,momentum=0.9)\n",
        "\n",
        "model.compile(optimizer=options, metrics=[\"accuracy\"],loss='categorical_crossentropy')\n",
        "\n",
        "# saving the best model \n",
        "filepath=\"/content/drive/MyDrive/FER2013/rawdata_resnet50.hdf5\"\n",
        "checkpoint = ModelCheckpoint(filepath, monitor='val_accuracy', verbose=1, save_best_only=True, mode='max')\n",
        "callbacks_list = [checkpoint]\n",
        "\n",
        "# train the model\n",
        "history = model.fit(train_data, train_labels, batch_size = 64, epochs = 15, shuffle=True, callbacks = callbacks_list, validation_data=(test_data, test_labels))"
      ],
      "execution_count": 4,
      "outputs": [
        {
          "output_type": "stream",
          "text": [
            "Downloading data from https://storage.googleapis.com/tensorflow/keras-applications/resnet/resnet50_weights_tf_dim_ordering_tf_kernels_notop.h5\n",
            "94773248/94765736 [==============================] - 1s 0us/step\n",
            "94781440/94765736 [==============================] - 1s 0us/step\n",
            "Epoch 1/15\n",
            "449/449 [==============================] - 368s 687ms/step - loss: 1.4947 - accuracy: 0.4222 - val_loss: 1.9551 - val_accuracy: 0.2962\n",
            "\n",
            "Epoch 00001: val_accuracy improved from -inf to 0.29619, saving model to /content/drive/MyDrive/FER2013/temp.hdf5\n"
          ],
          "name": "stdout"
        },
        {
          "output_type": "stream",
          "text": [
            "/usr/local/lib/python3.7/dist-packages/keras/utils/generic_utils.py:497: CustomMaskWarning: Custom mask layers require a config and must override get_config. When loading, the custom mask layer must be passed to the custom_objects argument.\n",
            "  category=CustomMaskWarning)\n"
          ],
          "name": "stderr"
        },
        {
          "output_type": "stream",
          "text": [
            "Epoch 2/15\n",
            "449/449 [==============================] - 304s 677ms/step - loss: 0.8951 - accuracy: 0.6748 - val_loss: 1.2810 - val_accuracy: 0.5222\n",
            "\n",
            "Epoch 00002: val_accuracy improved from 0.29619 to 0.52218, saving model to /content/drive/MyDrive/FER2013/temp.hdf5\n",
            "Epoch 3/15\n",
            "449/449 [==============================] - 304s 677ms/step - loss: 0.5594 - accuracy: 0.8143 - val_loss: 1.1531 - val_accuracy: 0.6035\n",
            "\n",
            "Epoch 00003: val_accuracy improved from 0.52218 to 0.60353, saving model to /content/drive/MyDrive/FER2013/temp.hdf5\n",
            "Epoch 4/15\n",
            "449/449 [==============================] - 323s 720ms/step - loss: 0.2856 - accuracy: 0.9215 - val_loss: 1.2565 - val_accuracy: 0.6124\n",
            "\n",
            "Epoch 00004: val_accuracy improved from 0.60353 to 0.61243, saving model to /content/drive/MyDrive/FER2013/temp.hdf5\n",
            "Epoch 5/15\n",
            "449/449 [==============================] - 304s 677ms/step - loss: 0.1127 - accuracy: 0.9773 - val_loss: 1.3823 - val_accuracy: 0.6284\n",
            "\n",
            "Epoch 00005: val_accuracy improved from 0.61243 to 0.62839, saving model to /content/drive/MyDrive/FER2013/temp.hdf5\n",
            "Epoch 6/15\n",
            "449/449 [==============================] - 304s 676ms/step - loss: 0.0415 - accuracy: 0.9952 - val_loss: 1.4851 - val_accuracy: 0.6489\n",
            "\n",
            "Epoch 00006: val_accuracy improved from 0.62839 to 0.64887, saving model to /content/drive/MyDrive/FER2013/temp.hdf5\n",
            "Epoch 7/15\n",
            "449/449 [==============================] - 323s 720ms/step - loss: 0.0216 - accuracy: 0.9968 - val_loss: 1.5247 - val_accuracy: 0.6487\n",
            "\n",
            "Epoch 00007: val_accuracy did not improve from 0.64887\n",
            "Epoch 8/15\n",
            "449/449 [==============================] - 304s 677ms/step - loss: 0.0140 - accuracy: 0.9977 - val_loss: 1.5832 - val_accuracy: 0.6554\n",
            "\n",
            "Epoch 00008: val_accuracy improved from 0.64887 to 0.65537, saving model to /content/drive/MyDrive/FER2013/temp.hdf5\n",
            "Epoch 9/15\n",
            "449/449 [==============================] - 304s 676ms/step - loss: 0.0109 - accuracy: 0.9976 - val_loss: 1.6648 - val_accuracy: 0.6559\n",
            "\n",
            "Epoch 00009: val_accuracy improved from 0.65537 to 0.65593, saving model to /content/drive/MyDrive/FER2013/temp.hdf5\n",
            "Epoch 10/15\n",
            "449/449 [==============================] - 304s 677ms/step - loss: 0.0079 - accuracy: 0.9985 - val_loss: 1.7192 - val_accuracy: 0.6530\n",
            "\n",
            "Epoch 00010: val_accuracy did not improve from 0.65593\n",
            "Epoch 11/15\n",
            "449/449 [==============================] - 304s 676ms/step - loss: 0.0075 - accuracy: 0.9975 - val_loss: 1.7402 - val_accuracy: 0.6596\n",
            "\n",
            "Epoch 00011: val_accuracy improved from 0.65593 to 0.65960, saving model to /content/drive/MyDrive/FER2013/temp.hdf5\n",
            "Epoch 12/15\n",
            "449/449 [==============================] - 303s 675ms/step - loss: 0.0058 - accuracy: 0.9984 - val_loss: 1.7445 - val_accuracy: 0.6559\n",
            "\n",
            "Epoch 00012: val_accuracy did not improve from 0.65960\n",
            "Epoch 13/15\n",
            "449/449 [==============================] - 304s 676ms/step - loss: 0.0057 - accuracy: 0.9983 - val_loss: 1.8018 - val_accuracy: 0.6573\n",
            "\n",
            "Epoch 00013: val_accuracy did not improve from 0.65960\n",
            "Epoch 14/15\n",
            "449/449 [==============================] - 304s 676ms/step - loss: 0.0047 - accuracy: 0.9984 - val_loss: 1.8228 - val_accuracy: 0.6565\n",
            "\n",
            "Epoch 00014: val_accuracy did not improve from 0.65960\n",
            "Epoch 15/15\n",
            "449/449 [==============================] - 304s 678ms/step - loss: 0.0058 - accuracy: 0.9977 - val_loss: 1.8232 - val_accuracy: 0.6572\n",
            "\n",
            "Epoch 00015: val_accuracy did not improve from 0.65960\n"
          ],
          "name": "stdout"
        }
      ]
    },
    {
      "cell_type": "markdown",
      "metadata": {
        "id": "6saNoljwCTYO"
      },
      "source": [
        "Accuracy and Loss curve for ResNet50 model"
      ]
    },
    {
      "cell_type": "code",
      "metadata": {
        "colab": {
          "base_uri": "https://localhost:8080/",
          "height": 295
        },
        "id": "M2Qi5Dk3uBbl",
        "outputId": "c7f5210c-bef1-448f-d2a0-80af8d52d38a"
      },
      "source": [
        "plt.plot(history.history['accuracy'])\n",
        "plt.plot(history.history['loss'])\n",
        "plt.title('model accuracy and loss')\n",
        "plt.ylabel('accuracy and loss')\n",
        "plt.xlabel('epoch')\n",
        "plt.legend(['accuracy', 'loss'], loc='upper right')\n",
        "plt.show()"
      ],
      "execution_count": 5,
      "outputs": [
        {
          "output_type": "display_data",
          "data": {
            "image/png": "[encoded data removed]",
            "text/plain": [
              "<Figure size 432x288 with 1 Axes>"
            ]
          },
          "metadata": {
            "tags": [],
            "needs_background": "light"
          }
        }
      ]
    },
    {
      "cell_type": "markdown",
      "metadata": {
        "id": "Ip_UKAKfCfiI"
      },
      "source": [
        "VGG16 with Rawdata"
      ]
    },
    {
      "cell_type": "code",
      "metadata": {
        "colab": {
          "base_uri": "https://localhost:8080/"
        },
        "id": "UqMLobfJypK7",
        "outputId": "23a1d15b-a9fa-4d43-e3a2-f651cebe66e2"
      },
      "source": [
        "vgg_model = VGG16(weights='imagenet',include_top=False)\n",
        "\n",
        "# Pooling/ flat\n",
        "pooling = keras.layers.GlobalAveragePooling2D()(vgg_model.output)\n",
        "\n",
        "# Adding fully connected layer 1\n",
        "pred = keras.layers.Dense(7, activation='softmax', name=\"pred\")(pooling)\n",
        "\n",
        "# Final model\n",
        "model = keras.models.Model(inputs = vgg_model.input, outputs=pred)\n",
        "\n",
        "# Options setting\n",
        "options = keras.optimizers.SGD(learning_rate = 0.001,decay=1e-5,momentum=0.9)\n",
        "\n",
        "model.compile(optimizer=options, metrics=[\"accuracy\"],loss='categorical_crossentropy')\n",
        "\n",
        "# saving the best model \n",
        "filepath=\"/content/drive/MyDrive/FER2013/rawdata_VGG16.hdf5\"\n",
        "checkpoint = ModelCheckpoint(filepath, monitor='val_accuracy', verbose=1, save_best_only=True, mode='max')\n",
        "callbacks_list = [checkpoint]\n",
        "\n",
        "# train the model\n",
        "history = model.fit(train_data, train_labels, batch_size = 64, epochs = 15, shuffle=True, callbacks = callbacks_list, validation_data=(test_data, test_labels))"
      ],
      "execution_count": 4,
      "outputs": [
        {
          "output_type": "stream",
          "text": [
            "Downloading data from https://storage.googleapis.com/tensorflow/keras-applications/vgg16/vgg16_weights_tf_dim_ordering_tf_kernels_notop.h5\n",
            "58892288/58889256 [==============================] - 0s 0us/step\n",
            "58900480/58889256 [==============================] - 0s 0us/step\n",
            "Epoch 1/15\n",
            "449/449 [==============================] - 460s 894ms/step - loss: 2.3442 - accuracy: 0.2045 - val_loss: 1.7879 - val_accuracy: 0.2535\n",
            "\n",
            "Epoch 00001: val_accuracy improved from -inf to 0.25353, saving model to /content/drive/MyDrive/FER2013/rawdata_VGG16.hdf5\n",
            "Epoch 2/15\n",
            "449/449 [==============================] - 399s 890ms/step - loss: 1.7577 - accuracy: 0.2736 - val_loss: 1.5779 - val_accuracy: 0.3667\n",
            "\n",
            "Epoch 00002: val_accuracy improved from 0.25353 to 0.36667, saving model to /content/drive/MyDrive/FER2013/rawdata_VGG16.hdf5\n",
            "Epoch 3/15\n",
            "449/449 [==============================] - 404s 900ms/step - loss: 1.5523 - accuracy: 0.3942 - val_loss: 1.3642 - val_accuracy: 0.4886\n",
            "\n",
            "Epoch 00003: val_accuracy improved from 0.36667 to 0.48856, saving model to /content/drive/MyDrive/FER2013/rawdata_VGG16.hdf5\n",
            "Epoch 4/15\n",
            "449/449 [==============================] - 408s 908ms/step - loss: 1.3199 - accuracy: 0.5044 - val_loss: 1.2757 - val_accuracy: 0.5188\n",
            "\n",
            "Epoch 00004: val_accuracy improved from 0.48856 to 0.51879, saving model to /content/drive/MyDrive/FER2013/rawdata_VGG16.hdf5\n",
            "Epoch 5/15\n",
            "449/449 [==============================] - 408s 909ms/step - loss: 1.2123 - accuracy: 0.5447 - val_loss: 1.1859 - val_accuracy: 0.5544\n",
            "\n",
            "Epoch 00005: val_accuracy improved from 0.51879 to 0.55438, saving model to /content/drive/MyDrive/FER2013/rawdata_VGG16.hdf5\n",
            "Epoch 6/15\n",
            "449/449 [==============================] - 408s 909ms/step - loss: 1.1133 - accuracy: 0.5776 - val_loss: 1.0759 - val_accuracy: 0.5973\n",
            "\n",
            "Epoch 00006: val_accuracy improved from 0.55438 to 0.59732, saving model to /content/drive/MyDrive/FER2013/rawdata_VGG16.hdf5\n",
            "Epoch 7/15\n",
            "449/449 [==============================] - 409s 912ms/step - loss: 1.0048 - accuracy: 0.6253 - val_loss: 1.0588 - val_accuracy: 0.6112\n",
            "\n",
            "Epoch 00007: val_accuracy improved from 0.59732 to 0.61116, saving model to /content/drive/MyDrive/FER2013/rawdata_VGG16.hdf5\n",
            "Epoch 8/15\n",
            "449/449 [==============================] - 409s 911ms/step - loss: 0.9471 - accuracy: 0.6447 - val_loss: 1.0210 - val_accuracy: 0.6218\n",
            "\n",
            "Epoch 00008: val_accuracy improved from 0.61116 to 0.62175, saving model to /content/drive/MyDrive/FER2013/rawdata_VGG16.hdf5\n",
            "Epoch 9/15\n",
            "449/449 [==============================] - 409s 911ms/step - loss: 0.8952 - accuracy: 0.6679 - val_loss: 1.0150 - val_accuracy: 0.6237\n",
            "\n",
            "Epoch 00009: val_accuracy improved from 0.62175 to 0.62373, saving model to /content/drive/MyDrive/FER2013/rawdata_VGG16.hdf5\n",
            "Epoch 10/15\n",
            "449/449 [==============================] - 410s 912ms/step - loss: 0.8233 - accuracy: 0.6988 - val_loss: 1.0584 - val_accuracy: 0.6370\n",
            "\n",
            "Epoch 00010: val_accuracy improved from 0.62373 to 0.63701, saving model to /content/drive/MyDrive/FER2013/rawdata_VGG16.hdf5\n",
            "Epoch 11/15\n",
            "449/449 [==============================] - 410s 913ms/step - loss: 0.7503 - accuracy: 0.7256 - val_loss: 1.0636 - val_accuracy: 0.6284\n",
            "\n",
            "Epoch 00011: val_accuracy did not improve from 0.63701\n",
            "Epoch 12/15\n",
            "449/449 [==============================] - 409s 912ms/step - loss: 0.6899 - accuracy: 0.7490 - val_loss: 1.0008 - val_accuracy: 0.6376\n",
            "\n",
            "Epoch 00012: val_accuracy improved from 0.63701 to 0.63757, saving model to /content/drive/MyDrive/FER2013/rawdata_VGG16.hdf5\n",
            "Epoch 13/15\n",
            "449/449 [==============================] - 410s 914ms/step - loss: 0.6137 - accuracy: 0.7717 - val_loss: 1.0700 - val_accuracy: 0.6306\n",
            "\n",
            "Epoch 00013: val_accuracy did not improve from 0.63757\n",
            "Epoch 14/15\n",
            "449/449 [==============================] - 411s 915ms/step - loss: 0.5428 - accuracy: 0.8057 - val_loss: 1.1705 - val_accuracy: 0.6476\n",
            "\n",
            "Epoch 00014: val_accuracy improved from 0.63757 to 0.64760, saving model to /content/drive/MyDrive/FER2013/rawdata_VGG16.hdf5\n",
            "Epoch 15/15\n",
            "449/449 [==============================] - 411s 915ms/step - loss: 0.4519 - accuracy: 0.8406 - val_loss: 1.0599 - val_accuracy: 0.6468\n",
            "\n",
            "Epoch 00015: val_accuracy did not improve from 0.64760\n"
          ],
          "name": "stdout"
        }
      ]
    },
    {
      "cell_type": "markdown",
      "metadata": {
        "id": "29BnADugCo6J"
      },
      "source": [
        "Accuracy and Loss curve for VGG16 model"
      ]
    },
    {
      "cell_type": "code",
      "metadata": {
        "colab": {
          "base_uri": "https://localhost:8080/",
          "height": 295
        },
        "id": "G17XAqr05i3X",
        "outputId": "98f759be-32e5-4f7f-f818-c39277caff6a"
      },
      "source": [
        "plt.plot(history.history['accuracy'])\n",
        "plt.plot(history.history['loss'])\n",
        "plt.title('model accuracy and loss')\n",
        "plt.ylabel('accuracy and loss')\n",
        "plt.xlabel('epoch')\n",
        "plt.legend(['accuracy', 'loss'], loc='upper right')\n",
        "plt.show()"
      ],
      "execution_count": 5,
      "outputs": [
        {
          "output_type": "display_data",
          "data": {
            "image/png": "[encoded data removed]",
            "text/plain": [
              "<Figure size 432x288 with 1 Axes>"
            ]
          },
          "metadata": {
            "tags": [],
            "needs_background": "light"
          }
        }
      ]
    },
    {
      "cell_type": "markdown",
      "metadata": {
        "id": "80nZ1g53e-x9"
      },
      "source": [
        "DenseNet121 with Rawdata"
      ]
    },
    {
      "cell_type": "code",
      "metadata": {
        "colab": {
          "base_uri": "https://localhost:8080/"
        },
        "id": "9I3BS6x5iAbX",
        "outputId": "6cb3ece4-f860-4d21-b496-1102d225b58c"
      },
      "source": [
        "densenet_model = DenseNet121(weights='imagenet',include_top=False)\n",
        "\n",
        "# Pooling/ flat\n",
        "pooling = keras.layers.GlobalAveragePooling2D()(densenet_model.output)\n",
        "\n",
        "# Adding fully connected layer 1\n",
        "pred = keras.layers.Dense(7, activation='softmax', name=\"pred\")(pooling)\n",
        "\n",
        "# Final model\n",
        "model = keras.models.Model(inputs = densenet_model.input, outputs=pred)\n",
        "\n",
        "# Options setting\n",
        "options = keras.optimizers.SGD(learning_rate = 0.001,decay=1e-6,momentum=0.9)\n",
        "\n",
        "model.compile(optimizer=options, metrics=[\"accuracy\"],loss='categorical_crossentropy')\n",
        "\n",
        "# saving the best model \n",
        "filepath=\"/content/drive/MyDrive/FER2013/rawdata_dense121.hdf5\"\n",
        "checkpoint = ModelCheckpoint(filepath, monitor='val_accuracy', verbose=1, save_best_only=True, mode='max')\n",
        "callbacks_list = [checkpoint]\n",
        "\n",
        "# train the model\n",
        "history =  model.fit(train_data, train_labels, batch_size = 64, epochs = 15, shuffle=True, callbacks = callbacks_list, validation_data=(test_data, test_labels))"
      ],
      "execution_count": 4,
      "outputs": [
        {
          "output_type": "stream",
          "text": [
            "Downloading data from https://storage.googleapis.com/tensorflow/keras-applications/densenet/densenet121_weights_tf_dim_ordering_tf_kernels_notop.h5\n",
            "29089792/29084464 [==============================] - 0s 0us/step\n",
            "29097984/29084464 [==============================] - 0s 0us/step\n",
            "Epoch 1/15\n",
            "449/449 [==============================] - 423s 771ms/step - loss: 1.5599 - accuracy: 0.4073 - val_loss: 1.1062 - val_accuracy: 0.5739\n",
            "\n",
            "Epoch 00001: val_accuracy improved from -inf to 0.57387, saving model to /content/drive/MyDrive/FER2013/rawdata_dense121.hdf5\n",
            "Epoch 2/15\n",
            "449/449 [==============================] - 333s 742ms/step - loss: 0.9411 - accuracy: 0.6501 - val_loss: 0.9963 - val_accuracy: 0.6316\n",
            "\n",
            "Epoch 00002: val_accuracy improved from 0.57387 to 0.63164, saving model to /content/drive/MyDrive/FER2013/rawdata_dense121.hdf5\n",
            "Epoch 3/15\n",
            "449/449 [==============================] - 333s 742ms/step - loss: 0.7162 - accuracy: 0.7425 - val_loss: 1.0300 - val_accuracy: 0.6329\n",
            "\n",
            "Epoch 00003: val_accuracy improved from 0.63164 to 0.63291, saving model to /content/drive/MyDrive/FER2013/rawdata_dense121.hdf5\n",
            "Epoch 4/15\n",
            "449/449 [==============================] - 333s 742ms/step - loss: 0.5267 - accuracy: 0.8246 - val_loss: 1.0701 - val_accuracy: 0.6321\n",
            "\n",
            "Epoch 00004: val_accuracy did not improve from 0.63291\n",
            "Epoch 5/15\n",
            "449/449 [==============================] - 333s 741ms/step - loss: 0.3493 - accuracy: 0.8908 - val_loss: 1.1068 - val_accuracy: 0.6434\n",
            "\n",
            "Epoch 00005: val_accuracy improved from 0.63291 to 0.64336, saving model to /content/drive/MyDrive/FER2013/rawdata_dense121.hdf5\n",
            "Epoch 6/15\n",
            "449/449 [==============================] - 333s 742ms/step - loss: 0.2068 - accuracy: 0.9430 - val_loss: 1.3494 - val_accuracy: 0.6054\n",
            "\n",
            "Epoch 00006: val_accuracy did not improve from 0.64336\n",
            "Epoch 7/15\n",
            "449/449 [==============================] - 333s 742ms/step - loss: 0.1266 - accuracy: 0.9692 - val_loss: 1.3447 - val_accuracy: 0.6343\n",
            "\n",
            "Epoch 00007: val_accuracy did not improve from 0.64336\n",
            "Epoch 8/15\n",
            "449/449 [==============================] - 333s 742ms/step - loss: 0.0906 - accuracy: 0.9781 - val_loss: 1.5252 - val_accuracy: 0.6194\n",
            "\n",
            "Epoch 00008: val_accuracy did not improve from 0.64336\n",
            "Epoch 9/15\n",
            "449/449 [==============================] - 333s 741ms/step - loss: 0.0755 - accuracy: 0.9809 - val_loss: 1.4726 - val_accuracy: 0.6386\n",
            "\n",
            "Epoch 00009: val_accuracy did not improve from 0.64336\n",
            "Epoch 10/15\n",
            "449/449 [==============================] - 333s 741ms/step - loss: 0.0481 - accuracy: 0.9904 - val_loss: 1.5827 - val_accuracy: 0.6476\n",
            "\n",
            "Epoch 00010: val_accuracy improved from 0.64336 to 0.64760, saving model to /content/drive/MyDrive/FER2013/rawdata_dense121.hdf5\n",
            "Epoch 11/15\n",
            "449/449 [==============================] - 333s 742ms/step - loss: 0.0419 - accuracy: 0.9910 - val_loss: 1.6131 - val_accuracy: 0.6489\n",
            "\n",
            "Epoch 00011: val_accuracy improved from 0.64760 to 0.64887, saving model to /content/drive/MyDrive/FER2013/rawdata_dense121.hdf5\n",
            "Epoch 12/15\n",
            "449/449 [==============================] - 333s 742ms/step - loss: 0.0357 - accuracy: 0.9921 - val_loss: 1.6976 - val_accuracy: 0.6473\n",
            "\n",
            "Epoch 00012: val_accuracy did not improve from 0.64887\n",
            "Epoch 13/15\n",
            "449/449 [==============================] - 333s 742ms/step - loss: 0.0353 - accuracy: 0.9917 - val_loss: 1.7097 - val_accuracy: 0.6487\n",
            "\n",
            "Epoch 00013: val_accuracy did not improve from 0.64887\n",
            "Epoch 14/15\n",
            "449/449 [==============================] - 333s 742ms/step - loss: 0.0356 - accuracy: 0.9906 - val_loss: 1.6649 - val_accuracy: 0.6581\n",
            "\n",
            "Epoch 00014: val_accuracy improved from 0.64887 to 0.65805, saving model to /content/drive/MyDrive/FER2013/rawdata_dense121.hdf5\n",
            "Epoch 15/15\n",
            "449/449 [==============================] - 333s 742ms/step - loss: 0.0233 - accuracy: 0.9955 - val_loss: 1.7939 - val_accuracy: 0.6425\n",
            "\n",
            "Epoch 00015: val_accuracy did not improve from 0.65805\n"
          ],
          "name": "stdout"
        }
      ]
    },
    {
      "cell_type": "code",
      "metadata": {
        "colab": {
          "base_uri": "https://localhost:8080/",
          "height": 295
        },
        "id": "jV3nnj9UCkgd",
        "outputId": "5537a7c7-6fd7-48a5-9ce6-bf121a4697ef"
      },
      "source": [
        "plt.plot(history.history['accuracy'])\n",
        "plt.plot(history.history['loss'])\n",
        "plt.title('model accuracy and loss')\n",
        "plt.ylabel('accuracy and loss')\n",
        "plt.xlabel('epoch')\n",
        "plt.legend(['accuracy', 'loss'], loc='upper right')\n",
        "plt.show()"
      ],
      "execution_count": 5,
      "outputs": [
        {
          "output_type": "display_data",
          "data": {
            "image/png": "[encoded data removed]",
            "text/plain": [
              "<Figure size 432x288 with 1 Axes>"
            ]
          },
          "metadata": {
            "tags": [],
            "needs_background": "light"
          }
        }
      ]
    },
    {
      "cell_type": "markdown",
      "metadata": {
        "id": "iFUcePslfvkG"
      },
      "source": [
        "Ensemble Learning for Rawdata (ResNet50 + VGG16 + DenseNet121)"
      ]
    },
    {
      "cell_type": "code",
      "metadata": {
        "colab": {
          "base_uri": "https://localhost:8080/"
        },
        "id": "q2HH006nb8uK",
        "outputId": "63ef7b0b-d07d-484c-c8d6-49c7c28b0959"
      },
      "source": [
        "from sklearn.metrics import accuracy_score\n",
        "\n",
        "resnet_model = load_model(\"/content/drive/MyDrive/FER2013/rawdata_resnet50.hdf5\")\n",
        "vgg_model = load_model(\"/content/drive/MyDrive/FER2013/rawdata_vgg16.hdf5\")\n",
        "dense_model = load_model(\"/content/drive/MyDrive/FER2013/rawdata_dense121.hdf5\")\n",
        "\n",
        "raw_dense = dense_model.predict(test_data)\n",
        "raw_vgg = vgg_model.predict(test_data)\n",
        "raw_resnet = resnet_model.predict(test_data)\n",
        "\n",
        "averaged_preds = np.argmax(raw_dense + raw_vgg + raw_resnet, 1)\n",
        "real_labels = np.argmax(test_labels, 1)\n",
        "acc = accuracy_score(real_labels, averaged_preds)\n",
        "print(acc)"
      ],
      "execution_count": 6,
      "outputs": [
        {
          "output_type": "stream",
          "text": [
            "0.6956214689265536\n"
          ],
          "name": "stdout"
        }
      ]
    },
    {
      "cell_type": "markdown",
      "metadata": {
        "id": "ay4N8RofVy7X"
      },
      "source": [
        "Classification report and Confusion Matrix for Raw data"
      ]
    },
    {
      "cell_type": "code",
      "metadata": {
        "colab": {
          "base_uri": "https://localhost:8080/"
        },
        "id": "pAXoMtpXVz8M",
        "outputId": "89e37bc0-4bf8-4466-8185-8d3f575154b7"
      },
      "source": [
        "from sklearn.metrics import classification_report, confusion_matrix\n",
        "\n",
        "print(\"Classification Report :\\n\")\n",
        "print(classification_report(real_labels, averaged_preds))\n",
        "\n",
        "print(\"Confusion Matrix :\\n\")\n",
        "print(confusion_matrix(real_labels, averaged_preds))"
      ],
      "execution_count": 7,
      "outputs": [
        {
          "output_type": "stream",
          "text": [
            "Classification Report :\n",
            "\n",
            "              precision    recall  f1-score   support\n",
            "\n",
            "           0       0.60      0.64      0.62       860\n",
            "           1       0.90      0.58      0.70       111\n",
            "           2       0.56      0.58      0.57      1024\n",
            "           3       0.86      0.88      0.87      1774\n",
            "           4       0.63      0.66      0.64      1233\n",
            "           5       0.59      0.54      0.56      1247\n",
            "           6       0.83      0.80      0.81       831\n",
            "\n",
            "    accuracy                           0.70      7080\n",
            "   macro avg       0.71      0.67      0.68      7080\n",
            "weighted avg       0.70      0.70      0.69      7080\n",
            "\n",
            "Confusion Matrix :\n",
            "\n",
            "[[ 549    2  102   39   83   76    9]\n",
            " [  23   64    9    4    3    8    0]\n",
            " [  91    3  596   27   88  156   63]\n",
            " [  24    0   26 1567   78   45   34]\n",
            " [  83    0   82   78  814  158   18]\n",
            " [ 123    1  166   63  211  668   15]\n",
            " [  22    1   75   38   16   12  667]]\n"
          ],
          "name": "stdout"
        }
      ]
    },
    {
      "cell_type": "markdown",
      "metadata": {
        "id": "Wgd8EQv-ejfC"
      },
      "source": [
        "Loading Sobel filter data"
      ]
    },
    {
      "cell_type": "code",
      "metadata": {
        "colab": {
          "base_uri": "https://localhost:8080/"
        },
        "id": "_2A1BZdSzNCt",
        "outputId": "08f01207-0f72-4f5f-8f6f-385c1cc238b2"
      },
      "source": [
        "# Sobel filtered image arrays\n",
        "# loading image arrays from drive\n",
        "\n",
        "train_data = np.load('/content/drive/MyDrive/FER2013/sobel_train.npy')\n",
        "test_data = np.load('/content/drive/MyDrive/FER2013/sobel_test.npy')\n",
        "\n",
        "print(\"Training Data   : \",train_data.shape)\n",
        "print(\"Testing  Data   : \",test_data.shape)"
      ],
      "execution_count": 4,
      "outputs": [
        {
          "output_type": "stream",
          "text": [
            "Training Data   :  (28709, 224, 224, 3)\n",
            "Testing  Data   :  (7080, 224, 224, 3)\n"
          ],
          "name": "stdout"
        }
      ]
    },
    {
      "cell_type": "markdown",
      "metadata": {
        "id": "lQ0XUI_retyf"
      },
      "source": [
        "ResNet50 model with Sobel filtered data"
      ]
    },
    {
      "cell_type": "code",
      "metadata": {
        "colab": {
          "base_uri": "https://localhost:8080/"
        },
        "id": "IDM9Ek9UstiI",
        "outputId": "820fa45f-4b23-4b99-d7c9-7870381abf98"
      },
      "source": [
        "resnet_model = ResNet50(weights='imagenet',include_top=False)\n",
        "\n",
        "# Pooling/ flat\n",
        "pooling = keras.layers.GlobalAveragePooling2D()(resnet_model.output)\n",
        "\n",
        "# Adding fully connected layer 1\n",
        "pred = keras.layers.Dense(7, activation='softmax', name=\"pred\")(pooling)\n",
        "\n",
        "# Final model\n",
        "model = keras.models.Model(inputs = resnet_model.input, outputs=pred)\n",
        "\n",
        "# Options setting\n",
        "options = keras.optimizers.SGD(learning_rate = 0.001,decay=1e-6,momentum=0.9)\n",
        "\n",
        "model.compile(optimizer=options, metrics=[\"accuracy\"],loss='categorical_crossentropy')\n",
        "\n",
        "# saving the best model \n",
        "filepath=\"/content/drive/MyDrive/FER2013/sobel_filt_resnet50.hdf5\"\n",
        "checkpoint = ModelCheckpoint(filepath, monitor='val_accuracy', verbose=1, save_best_only=True, mode='max')\n",
        "callbacks_list = [checkpoint]\n",
        "\n",
        "# train the model\n",
        "history = model.fit(train_data, train_labels, batch_size = 64, epochs = 15, shuffle=True, callbacks = callbacks_list, validation_data=(test_data, test_labels))"
      ],
      "execution_count": 4,
      "outputs": [
        {
          "output_type": "stream",
          "text": [
            "Downloading data from https://storage.googleapis.com/tensorflow/keras-applications/resnet/resnet50_weights_tf_dim_ordering_tf_kernels_notop.h5\n",
            "94773248/94765736 [==============================] - 1s 0us/step\n",
            "94781440/94765736 [==============================] - 1s 0us/step\n",
            "Epoch 1/15\n",
            "449/449 [==============================] - 375s 694ms/step - loss: 1.5888 - accuracy: 0.3892 - val_loss: 1.1658 - val_accuracy: 0.5528\n",
            "\n",
            "Epoch 00001: val_accuracy improved from -inf to 0.55282, saving model to /content/drive/MyDrive/FER2013/temp.hdf5\n"
          ],
          "name": "stdout"
        },
        {
          "output_type": "stream",
          "text": [
            "/usr/local/lib/python3.7/dist-packages/keras/utils/generic_utils.py:497: CustomMaskWarning: Custom mask layers require a config and must override get_config. When loading, the custom mask layer must be passed to the custom_objects argument.\n",
            "  category=CustomMaskWarning)\n"
          ],
          "name": "stderr"
        },
        {
          "output_type": "stream",
          "text": [
            "Epoch 2/15\n",
            "449/449 [==============================] - 308s 687ms/step - loss: 0.9176 - accuracy: 0.6648 - val_loss: 1.1081 - val_accuracy: 0.5912\n",
            "\n",
            "Epoch 00002: val_accuracy improved from 0.55282 to 0.59124, saving model to /content/drive/MyDrive/FER2013/temp.hdf5\n",
            "Epoch 3/15\n",
            "449/449 [==============================] - 309s 688ms/step - loss: 0.5057 - accuracy: 0.8467 - val_loss: 1.2492 - val_accuracy: 0.5891\n",
            "\n",
            "Epoch 00003: val_accuracy did not improve from 0.59124\n",
            "Epoch 4/15\n",
            "449/449 [==============================] - 309s 688ms/step - loss: 0.1855 - accuracy: 0.9614 - val_loss: 1.3943 - val_accuracy: 0.5970\n",
            "\n",
            "Epoch 00004: val_accuracy improved from 0.59124 to 0.59703, saving model to /content/drive/MyDrive/FER2013/temp.hdf5\n",
            "Epoch 5/15\n",
            "449/449 [==============================] - 309s 688ms/step - loss: 0.0544 - accuracy: 0.9944 - val_loss: 1.5320 - val_accuracy: 0.6028\n",
            "\n",
            "Epoch 00005: val_accuracy improved from 0.59703 to 0.60282, saving model to /content/drive/MyDrive/FER2013/temp.hdf5\n",
            "Epoch 6/15\n",
            "449/449 [==============================] - 327s 730ms/step - loss: 0.0206 - accuracy: 0.9980 - val_loss: 1.6026 - val_accuracy: 0.6037\n",
            "\n",
            "Epoch 00006: val_accuracy improved from 0.60282 to 0.60367, saving model to /content/drive/MyDrive/FER2013/temp.hdf5\n",
            "Epoch 7/15\n",
            "449/449 [==============================] - 309s 688ms/step - loss: 0.0120 - accuracy: 0.9982 - val_loss: 1.7075 - val_accuracy: 0.6092\n",
            "\n",
            "Epoch 00007: val_accuracy improved from 0.60367 to 0.60918, saving model to /content/drive/MyDrive/FER2013/temp.hdf5\n",
            "Epoch 8/15\n",
            "449/449 [==============================] - 309s 687ms/step - loss: 0.0096 - accuracy: 0.9982 - val_loss: 1.7457 - val_accuracy: 0.6086\n",
            "\n",
            "Epoch 00008: val_accuracy did not improve from 0.60918\n",
            "Epoch 9/15\n",
            "449/449 [==============================] - 309s 688ms/step - loss: 0.0077 - accuracy: 0.9980 - val_loss: 1.7786 - val_accuracy: 0.6088\n",
            "\n",
            "Epoch 00009: val_accuracy did not improve from 0.60918\n",
            "Epoch 10/15\n",
            "449/449 [==============================] - 308s 686ms/step - loss: 0.0068 - accuracy: 0.9985 - val_loss: 1.8214 - val_accuracy: 0.6105\n",
            "\n",
            "Epoch 00010: val_accuracy improved from 0.60918 to 0.61045, saving model to /content/drive/MyDrive/FER2013/temp.hdf5\n",
            "Epoch 11/15\n",
            "449/449 [==============================] - 308s 685ms/step - loss: 0.0062 - accuracy: 0.9982 - val_loss: 1.8490 - val_accuracy: 0.6110\n",
            "\n",
            "Epoch 00011: val_accuracy improved from 0.61045 to 0.61102, saving model to /content/drive/MyDrive/FER2013/temp.hdf5\n",
            "Epoch 12/15\n",
            "449/449 [==============================] - 308s 687ms/step - loss: 0.0061 - accuracy: 0.9978 - val_loss: 1.8811 - val_accuracy: 0.6066\n",
            "\n",
            "Epoch 00012: val_accuracy did not improve from 0.61102\n",
            "Epoch 13/15\n",
            "449/449 [==============================] - 308s 687ms/step - loss: 0.0055 - accuracy: 0.9983 - val_loss: 1.9050 - val_accuracy: 0.6100\n",
            "\n",
            "Epoch 00013: val_accuracy did not improve from 0.61102\n",
            "Epoch 14/15\n",
            "449/449 [==============================] - 308s 687ms/step - loss: 0.0053 - accuracy: 0.9982 - val_loss: 1.9277 - val_accuracy: 0.6107\n",
            "\n",
            "Epoch 00014: val_accuracy did not improve from 0.61102\n",
            "Epoch 15/15\n",
            "449/449 [==============================] - 307s 684ms/step - loss: 0.0044 - accuracy: 0.9983 - val_loss: 1.9552 - val_accuracy: 0.6097\n",
            "\n",
            "Epoch 00015: val_accuracy did not improve from 0.61102\n"
          ],
          "name": "stdout"
        }
      ]
    },
    {
      "cell_type": "markdown",
      "metadata": {
        "id": "zKpv9jqqe08q"
      },
      "source": [
        "Accuracy and Loss curve for ResNet50 model"
      ]
    },
    {
      "cell_type": "code",
      "metadata": {
        "colab": {
          "base_uri": "https://localhost:8080/",
          "height": 295
        },
        "id": "BvwsHuobe0SF",
        "outputId": "5d42f2eb-2269-4c62-a4b9-26a75b2172d8"
      },
      "source": [
        "plt.plot(history.history['accuracy'])\n",
        "plt.plot(history.history['loss'])\n",
        "plt.title('model accuracy and loss')\n",
        "plt.ylabel('accuracy and loss')\n",
        "plt.xlabel('epoch')\n",
        "plt.legend(['accuracy', 'loss'], loc='upper right')\n",
        "plt.show()"
      ],
      "execution_count": 5,
      "outputs": [
        {
          "output_type": "display_data",
          "data": {
            "image/png": "[encoded data removed]",
            "text/plain": [
              "<Figure size 432x288 with 1 Axes>"
            ]
          },
          "metadata": {
            "tags": [],
            "needs_background": "light"
          }
        }
      ]
    },
    {
      "cell_type": "markdown",
      "metadata": {
        "id": "6M3sZVDsfOZg"
      },
      "source": [
        "VGG16 model with Sobel filtered data"
      ]
    },
    {
      "cell_type": "code",
      "metadata": {
        "colab": {
          "base_uri": "https://localhost:8080/"
        },
        "id": "cKnHsyKks1xU",
        "outputId": "fdb5edd8-e5d4-466f-a973-e9fb06796926"
      },
      "source": [
        "vgg_model = VGG16(weights='imagenet',include_top=False)\n",
        "\n",
        "# Pooling/ flat\n",
        "pooling = keras.layers.GlobalAveragePooling2D()(vgg_model.output)\n",
        "\n",
        "# Adding fully connected layer 1\n",
        "pred = keras.layers.Dense(7, activation='softmax', name=\"pred\")(pooling)\n",
        "\n",
        "# Final model\n",
        "model = keras.models.Model(inputs = vgg_model.input, outputs=pred)\n",
        "\n",
        "# Options setting\n",
        "options = keras.optimizers.SGD(learning_rate = 0.001,decay=1e-5,momentum=0.9)\n",
        "\n",
        "model.compile(optimizer=options, metrics=[\"accuracy\"],loss='categorical_crossentropy')\n",
        "\n",
        "# saving the best model \n",
        "filepath=\"/content/drive/MyDrive/FER2013/sobel_filt_VGG16.hdf5\"\n",
        "checkpoint = ModelCheckpoint(filepath, monitor='val_accuracy', verbose=1, save_best_only=True, mode='max')\n",
        "callbacks_list = [checkpoint]\n",
        "\n",
        "# train the model\n",
        "history = model.fit(train_data, train_labels, batch_size = 64, epochs = 15, shuffle=True, callbacks = callbacks_list, validation_data=(test_data, test_labels))"
      ],
      "execution_count": 5,
      "outputs": [
        {
          "output_type": "stream",
          "text": [
            "Epoch 1/15\n",
            "449/449 [==============================] - 482s 941ms/step - loss: 2.0250 - accuracy: 0.2340 - val_loss: 1.7852 - val_accuracy: 0.2819\n",
            "\n",
            "Epoch 00001: val_accuracy improved from -inf to 0.28192, saving model to /content/drive/MyDrive/FER2013/temp.hdf5\n",
            "Epoch 2/15\n",
            "449/449 [==============================] - 416s 926ms/step - loss: 1.7398 - accuracy: 0.2920 - val_loss: 1.6649 - val_accuracy: 0.3400\n",
            "\n",
            "Epoch 00002: val_accuracy improved from 0.28192 to 0.33997, saving model to /content/drive/MyDrive/FER2013/temp.hdf5\n",
            "Epoch 3/15\n",
            "449/449 [==============================] - 420s 936ms/step - loss: 1.5893 - accuracy: 0.3833 - val_loss: 1.4392 - val_accuracy: 0.4559\n",
            "\n",
            "Epoch 00003: val_accuracy improved from 0.33997 to 0.45593, saving model to /content/drive/MyDrive/FER2013/temp.hdf5\n",
            "Epoch 4/15\n",
            "449/449 [==============================] - 423s 943ms/step - loss: 1.4385 - accuracy: 0.4550 - val_loss: 1.3237 - val_accuracy: 0.5024\n",
            "\n",
            "Epoch 00004: val_accuracy improved from 0.45593 to 0.50240, saving model to /content/drive/MyDrive/FER2013/temp.hdf5\n",
            "Epoch 5/15\n",
            "449/449 [==============================] - 424s 945ms/step - loss: 1.3214 - accuracy: 0.5011 - val_loss: 1.2608 - val_accuracy: 0.5329\n",
            "\n",
            "Epoch 00005: val_accuracy improved from 0.50240 to 0.53291, saving model to /content/drive/MyDrive/FER2013/temp.hdf5\n",
            "Epoch 6/15\n",
            "449/449 [==============================] - 426s 948ms/step - loss: 1.2252 - accuracy: 0.5422 - val_loss: 1.1823 - val_accuracy: 0.5589\n",
            "\n",
            "Epoch 00006: val_accuracy improved from 0.53291 to 0.55890, saving model to /content/drive/MyDrive/FER2013/temp.hdf5\n",
            "Epoch 7/15\n",
            "449/449 [==============================] - 427s 952ms/step - loss: 1.1368 - accuracy: 0.5709 - val_loss: 1.2178 - val_accuracy: 0.5486\n",
            "\n",
            "Epoch 00007: val_accuracy did not improve from 0.55890\n",
            "Epoch 8/15\n",
            "449/449 [==============================] - 429s 955ms/step - loss: 1.0761 - accuracy: 0.6005 - val_loss: 1.0830 - val_accuracy: 0.5939\n",
            "\n",
            "Epoch 00008: val_accuracy improved from 0.55890 to 0.59393, saving model to /content/drive/MyDrive/FER2013/temp.hdf5\n",
            "Epoch 9/15\n",
            "449/449 [==============================] - 428s 954ms/step - loss: 1.0027 - accuracy: 0.6276 - val_loss: 1.0938 - val_accuracy: 0.6047\n",
            "\n",
            "Epoch 00009: val_accuracy improved from 0.59393 to 0.60466, saving model to /content/drive/MyDrive/FER2013/temp.hdf5\n",
            "Epoch 10/15\n",
            "449/449 [==============================] - 429s 955ms/step - loss: 0.9188 - accuracy: 0.6612 - val_loss: 1.0602 - val_accuracy: 0.6058\n",
            "\n",
            "Epoch 00010: val_accuracy improved from 0.60466 to 0.60579, saving model to /content/drive/MyDrive/FER2013/temp.hdf5\n",
            "Epoch 11/15\n",
            "449/449 [==============================] - 430s 957ms/step - loss: 0.8438 - accuracy: 0.6828 - val_loss: 1.1270 - val_accuracy: 0.6092\n",
            "\n",
            "Epoch 00011: val_accuracy improved from 0.60579 to 0.60918, saving model to /content/drive/MyDrive/FER2013/temp.hdf5\n",
            "Epoch 12/15\n",
            "449/449 [==============================] - 430s 957ms/step - loss: 0.7843 - accuracy: 0.7096 - val_loss: 1.0643 - val_accuracy: 0.6047\n",
            "\n",
            "Epoch 00012: val_accuracy did not improve from 0.60918\n",
            "Epoch 13/15\n",
            "449/449 [==============================] - 431s 959ms/step - loss: 0.7013 - accuracy: 0.7465 - val_loss: 1.1717 - val_accuracy: 0.6081\n",
            "\n",
            "Epoch 00013: val_accuracy did not improve from 0.60918\n",
            "Epoch 14/15\n",
            "449/449 [==============================] - 431s 961ms/step - loss: 0.6103 - accuracy: 0.7815 - val_loss: 1.1130 - val_accuracy: 0.6136\n",
            "\n",
            "Epoch 00014: val_accuracy improved from 0.60918 to 0.61356, saving model to /content/drive/MyDrive/FER2013/temp.hdf5\n",
            "Epoch 15/15\n",
            "449/449 [==============================] - 432s 962ms/step - loss: 0.5385 - accuracy: 0.8037 - val_loss: 1.1848 - val_accuracy: 0.6308\n",
            "\n",
            "Epoch 00015: val_accuracy improved from 0.61356 to 0.63079, saving model to /content/drive/MyDrive/FER2013/temp.hdf5\n"
          ],
          "name": "stdout"
        }
      ]
    },
    {
      "cell_type": "markdown",
      "metadata": {
        "id": "VkiKig8lfaF1"
      },
      "source": [
        "Accuracy and Loss curve for VGG16 model"
      ]
    },
    {
      "cell_type": "code",
      "metadata": {
        "colab": {
          "base_uri": "https://localhost:8080/",
          "height": 295
        },
        "id": "T_mbqKJrfZb-",
        "outputId": "af4a300f-ed41-4401-c2d2-be6227cec407"
      },
      "source": [
        "plt.plot(history.history['accuracy'])\n",
        "plt.plot(history.history['loss'])\n",
        "plt.title('model accuracy and loss')\n",
        "plt.ylabel('accuracy and loss')\n",
        "plt.xlabel('epoch')\n",
        "plt.legend(['accuracy', 'loss'], loc='upper right')\n",
        "plt.show()"
      ],
      "execution_count": 6,
      "outputs": [
        {
          "output_type": "display_data",
          "data": {
            "image/png": "[encoded data removed]",
            "text/plain": [
              "<Figure size 432x288 with 1 Axes>"
            ]
          },
          "metadata": {
            "tags": [],
            "needs_background": "light"
          }
        }
      ]
    },
    {
      "cell_type": "markdown",
      "metadata": {
        "id": "UEvTs7oSfeLg"
      },
      "source": [
        "DenseNet121 model with Sobel filtered data"
      ]
    },
    {
      "cell_type": "code",
      "metadata": {
        "colab": {
          "base_uri": "https://localhost:8080/"
        },
        "id": "WaU-JSsRtG1Z",
        "outputId": "bc13d769-77e3-49fc-a639-110ca0131bee"
      },
      "source": [
        "densenet_model = DenseNet121(weights='imagenet',include_top=False)\n",
        "\n",
        "# Pooling/ flat\n",
        "pooling = keras.layers.GlobalAveragePooling2D()(densenet_model.output)\n",
        "\n",
        "# Adding fully connected layer 1\n",
        "pred = keras.layers.Dense(7, activation='softmax', name=\"pred\")(pooling)\n",
        "\n",
        "# Final model\n",
        "model = keras.models.Model(inputs = densenet_model.input, outputs=pred)\n",
        "\n",
        "# Options setting\n",
        "options = keras.optimizers.SGD(learning_rate = 0.001,decay=1e-6,momentum=0.9)\n",
        "\n",
        "model.compile(optimizer=options, metrics=[\"accuracy\"],loss='categorical_crossentropy')\n",
        "\n",
        "# saving the best model\n",
        "filepath=\"/content/drive/MyDrive/FER2013/sobel_filt_dense121.hdf5\"\n",
        "checkpoint = ModelCheckpoint(filepath, monitor='val_accuracy', verbose=1, save_best_only=True, mode='max')\n",
        "callbacks_list = [checkpoint]\n",
        "\n",
        "# train the model\n",
        "history = model.fit(train_data, train_labels, batch_size = 64, epochs = 15, shuffle=True, callbacks = callbacks_list, validation_data=(test_data, test_labels))"
      ],
      "execution_count": 7,
      "outputs": [
        {
          "output_type": "stream",
          "text": [
            "Downloading data from https://storage.googleapis.com/tensorflow/keras-applications/densenet/densenet121_weights_tf_dim_ordering_tf_kernels_notop.h5\n",
            "29089792/29084464 [==============================] - 0s 0us/step\n",
            "29097984/29084464 [==============================] - 0s 0us/step\n",
            "Epoch 1/15\n",
            "449/449 [==============================] - 389s 784ms/step - loss: 1.5933 - accuracy: 0.3958 - val_loss: 1.1310 - val_accuracy: 0.5758\n",
            "\n",
            "Epoch 00001: val_accuracy improved from -inf to 0.57585, saving model to /content/drive/MyDrive/FER2013/rawdata_dense121.hdf5\n",
            "Epoch 2/15\n",
            "449/449 [==============================] - 336s 749ms/step - loss: 0.9523 - accuracy: 0.6523 - val_loss: 1.1839 - val_accuracy: 0.5719\n",
            "\n",
            "Epoch 00002: val_accuracy did not improve from 0.57585\n",
            "Epoch 3/15\n",
            "449/449 [==============================] - 337s 750ms/step - loss: 0.6845 - accuracy: 0.7650 - val_loss: 1.1529 - val_accuracy: 0.5929\n",
            "\n",
            "Epoch 00003: val_accuracy improved from 0.57585 to 0.59294, saving model to /content/drive/MyDrive/FER2013/rawdata_dense121.hdf5\n",
            "Epoch 4/15\n",
            "449/449 [==============================] - 336s 749ms/step - loss: 0.4342 - accuracy: 0.8712 - val_loss: 1.1677 - val_accuracy: 0.6051\n",
            "\n",
            "Epoch 00004: val_accuracy improved from 0.59294 to 0.60508, saving model to /content/drive/MyDrive/FER2013/rawdata_dense121.hdf5\n",
            "Epoch 5/15\n",
            "449/449 [==============================] - 336s 748ms/step - loss: 0.2185 - accuracy: 0.9511 - val_loss: 1.3606 - val_accuracy: 0.5980\n",
            "\n",
            "Epoch 00005: val_accuracy did not improve from 0.60508\n",
            "Epoch 6/15\n",
            "449/449 [==============================] - 336s 749ms/step - loss: 0.1053 - accuracy: 0.9812 - val_loss: 1.5306 - val_accuracy: 0.5977\n",
            "\n",
            "Epoch 00006: val_accuracy did not improve from 0.60508\n",
            "Epoch 7/15\n",
            "449/449 [==============================] - 337s 750ms/step - loss: 0.0498 - accuracy: 0.9943 - val_loss: 1.5814 - val_accuracy: 0.6140\n",
            "\n",
            "Epoch 00007: val_accuracy improved from 0.60508 to 0.61398, saving model to /content/drive/MyDrive/FER2013/rawdata_dense121.hdf5\n",
            "Epoch 8/15\n",
            "449/449 [==============================] - 336s 748ms/step - loss: 0.0328 - accuracy: 0.9962 - val_loss: 1.7546 - val_accuracy: 0.6105\n",
            "\n",
            "Epoch 00008: val_accuracy did not improve from 0.61398\n",
            "Epoch 9/15\n",
            "449/449 [==============================] - 336s 748ms/step - loss: 0.0214 - accuracy: 0.9977 - val_loss: 1.7535 - val_accuracy: 0.6138\n",
            "\n",
            "Epoch 00009: val_accuracy did not improve from 0.61398\n",
            "Epoch 10/15\n",
            "449/449 [==============================] - 336s 748ms/step - loss: 0.0152 - accuracy: 0.9977 - val_loss: 1.8150 - val_accuracy: 0.6148\n",
            "\n",
            "Epoch 00010: val_accuracy improved from 0.61398 to 0.61483, saving model to /content/drive/MyDrive/FER2013/rawdata_dense121.hdf5\n",
            "Epoch 11/15\n",
            "449/449 [==============================] - 336s 749ms/step - loss: 0.0124 - accuracy: 0.9977 - val_loss: 1.8869 - val_accuracy: 0.6155\n",
            "\n",
            "Epoch 00011: val_accuracy improved from 0.61483 to 0.61554, saving model to /content/drive/MyDrive/FER2013/rawdata_dense121.hdf5\n",
            "Epoch 12/15\n",
            "449/449 [==============================] - 336s 748ms/step - loss: 0.0124 - accuracy: 0.9971 - val_loss: 1.9014 - val_accuracy: 0.6153\n",
            "\n",
            "Epoch 00012: val_accuracy did not improve from 0.61554\n",
            "Epoch 13/15\n",
            "449/449 [==============================] - 336s 748ms/step - loss: 0.0071 - accuracy: 0.9984 - val_loss: 1.9627 - val_accuracy: 0.6165\n",
            "\n",
            "Epoch 00013: val_accuracy improved from 0.61554 to 0.61653, saving model to /content/drive/MyDrive/FER2013/rawdata_dense121.hdf5\n",
            "Epoch 14/15\n",
            "449/449 [==============================] - 336s 747ms/step - loss: 0.0063 - accuracy: 0.9985 - val_loss: 1.9690 - val_accuracy: 0.6155\n",
            "\n",
            "Epoch 00014: val_accuracy did not improve from 0.61653\n",
            "Epoch 15/15\n",
            "449/449 [==============================] - 337s 750ms/step - loss: 0.0065 - accuracy: 0.9979 - val_loss: 1.9971 - val_accuracy: 0.6192\n",
            "\n",
            "Epoch 00015: val_accuracy improved from 0.61653 to 0.61921, saving model to /content/drive/MyDrive/FER2013/rawdata_dense121.hdf5\n"
          ],
          "name": "stdout"
        }
      ]
    },
    {
      "cell_type": "markdown",
      "metadata": {
        "id": "9PwJtfBIfn4W"
      },
      "source": [
        "Accuracy and Loss curve for DenseNet121"
      ]
    },
    {
      "cell_type": "code",
      "metadata": {
        "colab": {
          "base_uri": "https://localhost:8080/",
          "height": 295
        },
        "id": "6qgFcL3MfnUV",
        "outputId": "598d7f5f-3c84-48d3-bdbc-5b04aa10bdb0"
      },
      "source": [
        "plt.plot(history.history['accuracy'])\n",
        "plt.plot(history.history['loss'])\n",
        "plt.title('model accuracy and loss')\n",
        "plt.ylabel('accuracy and loss')\n",
        "plt.xlabel('epoch')\n",
        "plt.legend(['accuracy', 'loss'], loc='upper right')\n",
        "plt.show()"
      ],
      "execution_count": 8,
      "outputs": [
        {
          "output_type": "display_data",
          "data": {
            "image/png": "[encoded data removed]",
            "text/plain": [
              "<Figure size 432x288 with 1 Axes>"
            ]
          },
          "metadata": {
            "tags": [],
            "needs_background": "light"
          }
        }
      ]
    },
    {
      "cell_type": "markdown",
      "metadata": {
        "id": "nUS74LU-f5IA"
      },
      "source": [
        "Ensemble Learning for Sobel filtered data (ResNet50 + VGG16 + DenseNet121)"
      ]
    },
    {
      "cell_type": "code",
      "metadata": {
        "colab": {
          "base_uri": "https://localhost:8080/"
        },
        "id": "63swZC5ff9EG",
        "outputId": "4cadec6f-961c-42c0-e7ad-a9a311046153"
      },
      "source": [
        "from sklearn.metrics import accuracy_score\n",
        "\n",
        "resnet_model = load_model(\"/content/drive/MyDrive/FER2013/sobel_filt_resnet50.hdf5\")\n",
        "vgg_model = load_model(\"/content/drive/MyDrive/FER2013/sobel_filt_vgg16.hdf5\")\n",
        "dense_model = load_model(\"/content/drive/MyDrive/FER2013/sobel_filt_dense121.hdf5\")\n",
        "\n",
        "sobel_dense = dense_model.predict(test_data)\n",
        "sobel_vgg = vgg_model.predict(test_data)\n",
        "sobel_resnet = resnet_model.predict(test_data)\n",
        "\n",
        "averaged_preds = np.argmax(sobel_dense + sobel_vgg + sobel_resnet, 1)\n",
        "real_labels = np.argmax(test_labels, 1)\n",
        "acc = accuracy_score(real_labels, averaged_preds)\n",
        "print(acc)"
      ],
      "execution_count": 6,
      "outputs": [
        {
          "output_type": "stream",
          "text": [
            "0.6635593220338983\n"
          ],
          "name": "stdout"
        }
      ]
    },
    {
      "cell_type": "markdown",
      "metadata": {
        "id": "3veI9ibjV9Cy"
      },
      "source": [
        "Classification report and Confusion matrix for Sobel filtered data"
      ]
    },
    {
      "cell_type": "code",
      "metadata": {
        "colab": {
          "base_uri": "https://localhost:8080/"
        },
        "id": "v2W_9tiaIgz8",
        "outputId": "d4c23915-3647-466c-c6ec-e33fa23d9bc6"
      },
      "source": [
        "from sklearn.metrics import classification_report, confusion_matrix\n",
        "\n",
        "print(\"Classification Report :\\n\")\n",
        "print(classification_report(real_labels, averaged_preds))\n",
        "\n",
        "print(\"Confusion Matrix :\\n\")\n",
        "print(confusion_matrix(real_labels, averaged_preds))"
      ],
      "execution_count": 11,
      "outputs": [
        {
          "output_type": "stream",
          "text": [
            "Classification Report :\n",
            "\n",
            "              precision    recall  f1-score   support\n",
            "\n",
            "           0       0.56      0.58      0.57       860\n",
            "           1       0.87      0.50      0.63       111\n",
            "           2       0.56      0.47      0.51      1024\n",
            "           3       0.83      0.88      0.86      1774\n",
            "           4       0.59      0.65      0.62      1233\n",
            "           5       0.53      0.54      0.53      1247\n",
            "           6       0.80      0.77      0.79       831\n",
            "\n",
            "    accuracy                           0.66      7080\n",
            "   macro avg       0.68      0.63      0.64      7080\n",
            "weighted avg       0.66      0.66      0.66      7080\n",
            "\n",
            "Confusion Matrix :\n",
            "\n",
            "[[ 495    4   85   37  109  116   14]\n",
            " [  28   55    7    5    5    9    2]\n",
            " [ 109    2  479   40  115  197   82]\n",
            " [  31    0   28 1556   83   50   26]\n",
            " [  64    2   69   83  802  199   14]\n",
            " [ 133    0  125   90  208  668   23]\n",
            " [  20    0   65   53   27   23  643]]\n"
          ],
          "name": "stdout"
        }
      ]
    }
  ]
}